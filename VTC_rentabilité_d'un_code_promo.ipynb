{
  "nbformat": 4,
  "nbformat_minor": 0,
  "metadata": {
    "colab": {
      "name": "VTC : rentabilité d'un code promo.ipynb",
      "provenance": [],
      "collapsed_sections": []
    },
    "kernelspec": {
      "name": "python3",
      "display_name": "Python 3"
    }
  },
  "cells": [
    {
      "cell_type": "markdown",
      "metadata": {
        "id": "_1pDpBCtv72H",
        "colab_type": "text"
      },
      "source": [
        "# Base de données d'un service de VTC\n",
        "\n",
        "## Etude d'une campagne promotionnelle\n",
        "\n",
        "Un code promotionnel a été envoyé aux utilisateurs d'un service de VTC. Pendant 5 jours, leurs courses effectuées leur rapportaient 5 fois plus de point de fidélité qu'à l'accoutumée. \n",
        "\n",
        "- Analyse du nombre d'utilisateurs ayant enregistré le code sur leur app.\n",
        "- Analyse du taux de conversion : nombre d'utilisateurs ayant effectivement bénéficié du code promotionnel. \n",
        "- Analyse du coût / bénéfice moyen du code promo par utilisateur"
      ]
    },
    {
      "cell_type": "code",
      "metadata": {
        "id": "rvpdzeZu81J2",
        "colab_type": "code",
        "colab": {}
      },
      "source": [
        "import pandas as pd\n",
        "import matplotlib.pyplot as plt\n",
        "import seaborn as sns\n",
        "import numpy as np"
      ],
      "execution_count": 0,
      "outputs": []
    },
    {
      "cell_type": "markdown",
      "metadata": {
        "id": "iVsAps7I9Qdr",
        "colab_type": "text"
      },
      "source": [
        "###1ère vue d'ensemble des 2 sets de données\n",
        "\n",
        "le dataset rides contient les courses effectuées ou demandées mais non finalisées pour un service de VTC sur environ 3 mois."
      ]
    },
    {
      "cell_type": "code",
      "metadata": {
        "id": "gz97FRQ49TE7",
        "colab_type": "code",
        "outputId": "a9fd63ce-aec3-46ce-ab02-e87b1b9beb2c",
        "colab": {
          "base_uri": "https://localhost:8080/",
          "height": 305
        }
      },
      "source": [
        "rides = pd.read_csv('rides.csv')\n",
        "rides.head()"
      ],
      "execution_count": 0,
      "outputs": [
        {
          "output_type": "execute_result",
          "data": {
            "text/html": [
              "<div>\n",
              "<style scoped>\n",
              "    .dataframe tbody tr th:only-of-type {\n",
              "        vertical-align: middle;\n",
              "    }\n",
              "\n",
              "    .dataframe tbody tr th {\n",
              "        vertical-align: top;\n",
              "    }\n",
              "\n",
              "    .dataframe thead th {\n",
              "        text-align: right;\n",
              "    }\n",
              "</style>\n",
              "<table border=\"1\" class=\"dataframe\">\n",
              "  <thead>\n",
              "    <tr style=\"text-align: right;\">\n",
              "      <th></th>\n",
              "      <th>ride_id</th>\n",
              "      <th>user_id</th>\n",
              "      <th>loyalty.status</th>\n",
              "      <th>booking_id</th>\n",
              "      <th>isGuest</th>\n",
              "      <th>loyalty_points_earned</th>\n",
              "      <th>price.loyalty.points_spent</th>\n",
              "      <th>price_nominal</th>\n",
              "      <th>price_after_discount</th>\n",
              "      <th>state</th>\n",
              "      <th>quote_date</th>\n",
              "    </tr>\n",
              "  </thead>\n",
              "  <tbody>\n",
              "    <tr>\n",
              "      <th>0</th>\n",
              "      <td>357a545ef665da69dd86ac33ae817f3a</td>\n",
              "      <td>c6f3a631ae33a84c343dd9c553889337</td>\n",
              "      <td>1</td>\n",
              "      <td>1ea36f95a86a5a876456ce66587f4882</td>\n",
              "      <td>False</td>\n",
              "      <td>0</td>\n",
              "      <td>NaN</td>\n",
              "      <td>5.48</td>\n",
              "      <td>5.80</td>\n",
              "      <td>not_completed</td>\n",
              "      <td>2017-03-01 11:07:49</td>\n",
              "    </tr>\n",
              "    <tr>\n",
              "      <th>1</th>\n",
              "      <td>5714536c4b4b1b10c4cd8ac907537044</td>\n",
              "      <td>0bad5fc7936b072d8de8749b9dd608c6</td>\n",
              "      <td>1</td>\n",
              "      <td>NaN</td>\n",
              "      <td>False</td>\n",
              "      <td>0</td>\n",
              "      <td>NaN</td>\n",
              "      <td>4.72</td>\n",
              "      <td>4.72</td>\n",
              "      <td>not_completed</td>\n",
              "      <td>2017-03-02 22:45:02</td>\n",
              "    </tr>\n",
              "    <tr>\n",
              "      <th>2</th>\n",
              "      <td>5c8f5dec570b6597090f8b30ea33b0af</td>\n",
              "      <td>0bad5fc7936b072d8de8749b9dd608c6</td>\n",
              "      <td>1</td>\n",
              "      <td>NaN</td>\n",
              "      <td>False</td>\n",
              "      <td>5</td>\n",
              "      <td>NaN</td>\n",
              "      <td>4.72</td>\n",
              "      <td>4.72</td>\n",
              "      <td>completed</td>\n",
              "      <td>2017-03-02 22:45:22</td>\n",
              "    </tr>\n",
              "    <tr>\n",
              "      <th>3</th>\n",
              "      <td>0f37be24f23a15746eb8774e7a1bd934</td>\n",
              "      <td>37169a3d6636e14afabb1dbe01f5c83e</td>\n",
              "      <td>0</td>\n",
              "      <td>NaN</td>\n",
              "      <td>False</td>\n",
              "      <td>8</td>\n",
              "      <td>NaN</td>\n",
              "      <td>7.68</td>\n",
              "      <td>7.68</td>\n",
              "      <td>completed</td>\n",
              "      <td>2017-03-03 00:22:45</td>\n",
              "    </tr>\n",
              "    <tr>\n",
              "      <th>4</th>\n",
              "      <td>67f054abb8b60132dd7c19cb30e74e10</td>\n",
              "      <td>b89d8219faa82966c7b33ee69b484ad2</td>\n",
              "      <td>3</td>\n",
              "      <td>NaN</td>\n",
              "      <td>False</td>\n",
              "      <td>7</td>\n",
              "      <td>NaN</td>\n",
              "      <td>4.00</td>\n",
              "      <td>4.00</td>\n",
              "      <td>completed</td>\n",
              "      <td>2017-03-04 03:32:15</td>\n",
              "    </tr>\n",
              "  </tbody>\n",
              "</table>\n",
              "</div>"
            ],
            "text/plain": [
              "                            ride_id  ...           quote_date\n",
              "0  357a545ef665da69dd86ac33ae817f3a  ...  2017-03-01 11:07:49\n",
              "1  5714536c4b4b1b10c4cd8ac907537044  ...  2017-03-02 22:45:02\n",
              "2  5c8f5dec570b6597090f8b30ea33b0af  ...  2017-03-02 22:45:22\n",
              "3  0f37be24f23a15746eb8774e7a1bd934  ...  2017-03-03 00:22:45\n",
              "4  67f054abb8b60132dd7c19cb30e74e10  ...  2017-03-04 03:32:15\n",
              "\n",
              "[5 rows x 11 columns]"
            ]
          },
          "metadata": {
            "tags": []
          },
          "execution_count": 4
        }
      ]
    },
    {
      "cell_type": "markdown",
      "metadata": {
        "id": "WtKY6igPOzW0",
        "colab_type": "text"
      },
      "source": [
        "le dataset event se concentre sur le code promotionnel. Il repertorie les enregistrements du code dans l'application ( \"coupon_created\" ) ou les courses réalisées en bénéficiant du code ( \"other_coupon_action\" )."
      ]
    },
    {
      "cell_type": "code",
      "metadata": {
        "id": "0fcmgK4O9VxC",
        "colab_type": "code",
        "outputId": "371de196-8467-4116-fbeb-c6e2730f3791",
        "colab": {
          "base_uri": "https://localhost:8080/",
          "height": 218
        }
      },
      "source": [
        "events1 = pd.read_csv('events.csv')\n",
        "events1.head()\n",
        "#je l'appelle events1 pour y revenir ensuite "
      ],
      "execution_count": 0,
      "outputs": [
        {
          "output_type": "execute_result",
          "data": {
            "text/html": [
              "<div>\n",
              "<style scoped>\n",
              "    .dataframe tbody tr th:only-of-type {\n",
              "        vertical-align: middle;\n",
              "    }\n",
              "\n",
              "    .dataframe tbody tr th {\n",
              "        vertical-align: top;\n",
              "    }\n",
              "\n",
              "    .dataframe thead th {\n",
              "        text-align: right;\n",
              "    }\n",
              "</style>\n",
              "<table border=\"1\" class=\"dataframe\">\n",
              "  <thead>\n",
              "    <tr style=\"text-align: right;\">\n",
              "      <th></th>\n",
              "      <th>event_id</th>\n",
              "      <th>ride_id</th>\n",
              "      <th>type</th>\n",
              "      <th>user_id</th>\n",
              "      <th>promocode_name</th>\n",
              "    </tr>\n",
              "  </thead>\n",
              "  <tbody>\n",
              "    <tr>\n",
              "      <th>0</th>\n",
              "      <td>457113065c424d25eff17823ad888162</td>\n",
              "      <td>NaN</td>\n",
              "      <td>other_coupon_action</td>\n",
              "      <td>c045abae8a3110ea6cec54b2f49f9f2d</td>\n",
              "      <td>89f13478125cee693ce7f76fedf01808</td>\n",
              "    </tr>\n",
              "    <tr>\n",
              "      <th>1</th>\n",
              "      <td>06e5ceb932743b583dc4349f617d1fde</td>\n",
              "      <td>NaN</td>\n",
              "      <td>coupon_created</td>\n",
              "      <td>c33cc932b7a4feb6f51d7ed1077faa05</td>\n",
              "      <td>8041613eff4408b9268b66430cf5d9a1</td>\n",
              "    </tr>\n",
              "    <tr>\n",
              "      <th>2</th>\n",
              "      <td>f08b5f110a9e2e9c3eac3f03e8ad801b</td>\n",
              "      <td>NaN</td>\n",
              "      <td>coupon_created</td>\n",
              "      <td>da03b00f7dd32fa31b800ecb762ef1df</td>\n",
              "      <td>308dd493382b32ebf486da92fdeaf38d</td>\n",
              "    </tr>\n",
              "    <tr>\n",
              "      <th>3</th>\n",
              "      <td>4265bc09df57f4fb6991f832b24e643c</td>\n",
              "      <td>NaN</td>\n",
              "      <td>coupon_created</td>\n",
              "      <td>0928a1d559774b05be5e6926920d2873</td>\n",
              "      <td>c4afe8e1914a1f612ca82d59ec72c771</td>\n",
              "    </tr>\n",
              "    <tr>\n",
              "      <th>4</th>\n",
              "      <td>4a5d1f58698acb12ca4da6b24535693d</td>\n",
              "      <td>NaN</td>\n",
              "      <td>coupon_created</td>\n",
              "      <td>960025162805d2c5942334c5ed200528</td>\n",
              "      <td>308dd493382b32ebf486da92fdeaf38d</td>\n",
              "    </tr>\n",
              "  </tbody>\n",
              "</table>\n",
              "</div>"
            ],
            "text/plain": [
              "                           event_id  ...                    promocode_name\n",
              "0  457113065c424d25eff17823ad888162  ...  89f13478125cee693ce7f76fedf01808\n",
              "1  06e5ceb932743b583dc4349f617d1fde  ...  8041613eff4408b9268b66430cf5d9a1\n",
              "2  f08b5f110a9e2e9c3eac3f03e8ad801b  ...  308dd493382b32ebf486da92fdeaf38d\n",
              "3  4265bc09df57f4fb6991f832b24e643c  ...  c4afe8e1914a1f612ca82d59ec72c771\n",
              "4  4a5d1f58698acb12ca4da6b24535693d  ...  308dd493382b32ebf486da92fdeaf38d\n",
              "\n",
              "[5 rows x 5 columns]"
            ]
          },
          "metadata": {
            "tags": []
          },
          "execution_count": 5
        }
      ]
    },
    {
      "cell_type": "code",
      "metadata": {
        "id": "d8Q2__PK9YKG",
        "colab_type": "code",
        "outputId": "9f73b934-8e22-4fa2-f045-b7d68b029c90",
        "colab": {
          "base_uri": "https://localhost:8080/",
          "height": 35
        }
      },
      "source": [
        "totalriders=f\"il y a {rides.user_id.nunique()} utilisateurs uniques enregistrés dans le set \\'rides\\'\"\n",
        "totalriders"
      ],
      "execution_count": 0,
      "outputs": [
        {
          "output_type": "execute_result",
          "data": {
            "text/plain": [
              "\"il y a 180692 utilisateurs uniques enregistrés dans le set 'rides'\""
            ]
          },
          "metadata": {
            "tags": []
          },
          "execution_count": 6
        }
      ]
    },
    {
      "cell_type": "markdown",
      "metadata": {
        "id": "g3sKFj1U9dLv",
        "colab_type": "text"
      },
      "source": [
        "###Filtrage \n",
        "\n",
        "Le set 'rides' est beaucoup trop volumineux par rapport aux informations qui m'intéressent. \n",
        "\n",
        "Dans un 1er temps, je mets en forme de la colonne quote_date pour ne sélectionner que les 5 jours qui m'intéressent.\n",
        "Par exemple, '2017-03-01 11:07:49' devient '2017-03-01'.\n",
        "\n",
        "\n",
        "Ensuite, je ne veux garder que :\n",
        "\n",
        "- les courses terminées ('completed')\n",
        "- ayant eu lieu du 17 au 21 mai inclus (jours pendant lesquels le code promo était opérationnel)\n",
        "\n",
        "Aussi, je supprime les colonnes booking_id (infos inutiles dans ce cas), isGuest (colonne corrélée à la colonne loyalty_points_earned), et price.loyalty.points_spent (si une course a été payée avec des points, elle n'a pas pu en rapporter à l'utilisateur, et j'ai déjà prévu de vérifier cela plus bas).\n"
      ]
    },
    {
      "cell_type": "code",
      "metadata": {
        "id": "xg12t7ks9d05",
        "colab_type": "code",
        "outputId": "fcc0347e-260f-40e5-c6d5-38998fa5eb3b",
        "colab": {
          "base_uri": "https://localhost:8080/",
          "height": 575
        }
      },
      "source": [
        "rides.rename(columns={'loyalty_points_earned':'lp_earned','price_after_discount':'ad_price',\n",
        "                      'loyalty.status':'loyalty_level','quote_date':'date' },inplace=True)\n",
        "rides.date = rides.date.apply(lambda x : x[:10]) \n",
        "rides.date = pd.to_datetime(rides.date)\n",
        "rides2 = rides[(rides.date > '2017-05-16') & (rides.date < '2017-05-22')]\n",
        "rides2 = rides2[(rides.state =='completed') ]\n",
        "rides2.drop(['booking_id','isGuest','price.loyalty.points_spent'],axis=1,inplace=True)\n",
        "rides2.head(10)"
      ],
      "execution_count": 0,
      "outputs": [
        {
          "output_type": "stream",
          "text": [
            "/usr/local/lib/python3.6/dist-packages/ipykernel_launcher.py:6: UserWarning: Boolean Series key will be reindexed to match DataFrame index.\n",
            "  \n"
          ],
          "name": "stderr"
        },
        {
          "output_type": "execute_result",
          "data": {
            "text/html": [
              "<div>\n",
              "<style scoped>\n",
              "    .dataframe tbody tr th:only-of-type {\n",
              "        vertical-align: middle;\n",
              "    }\n",
              "\n",
              "    .dataframe tbody tr th {\n",
              "        vertical-align: top;\n",
              "    }\n",
              "\n",
              "    .dataframe thead th {\n",
              "        text-align: right;\n",
              "    }\n",
              "</style>\n",
              "<table border=\"1\" class=\"dataframe\">\n",
              "  <thead>\n",
              "    <tr style=\"text-align: right;\">\n",
              "      <th></th>\n",
              "      <th>ride_id</th>\n",
              "      <th>user_id</th>\n",
              "      <th>loyalty_level</th>\n",
              "      <th>lp_earned</th>\n",
              "      <th>price_nominal</th>\n",
              "      <th>ad_price</th>\n",
              "      <th>state</th>\n",
              "      <th>date</th>\n",
              "    </tr>\n",
              "  </thead>\n",
              "  <tbody>\n",
              "    <tr>\n",
              "      <th>237</th>\n",
              "      <td>bb85aff73ae15b27632c520ecf9bd58c</td>\n",
              "      <td>78e328025997c14eceb2bd3a13b23795</td>\n",
              "      <td>1</td>\n",
              "      <td>10</td>\n",
              "      <td>6.43</td>\n",
              "      <td>6.72</td>\n",
              "      <td>completed</td>\n",
              "      <td>2017-05-17</td>\n",
              "    </tr>\n",
              "    <tr>\n",
              "      <th>238</th>\n",
              "      <td>4afe23695ba43d436b115c294c2f64d2</td>\n",
              "      <td>8b0b91ae335b298a960d2052ed970d87</td>\n",
              "      <td>2</td>\n",
              "      <td>6</td>\n",
              "      <td>4.00</td>\n",
              "      <td>4.00</td>\n",
              "      <td>completed</td>\n",
              "      <td>2017-05-18</td>\n",
              "    </tr>\n",
              "    <tr>\n",
              "      <th>239</th>\n",
              "      <td>c48a1f5cb7bf71b5278cbb2967399dd5</td>\n",
              "      <td>4d8ae342aa247a23494460a02211ba51</td>\n",
              "      <td>3</td>\n",
              "      <td>8</td>\n",
              "      <td>4.56</td>\n",
              "      <td>4.56</td>\n",
              "      <td>completed</td>\n",
              "      <td>2017-05-18</td>\n",
              "    </tr>\n",
              "    <tr>\n",
              "      <th>250</th>\n",
              "      <td>623c2c44ec7709c3c791fa5728448d01</td>\n",
              "      <td>d9f9d0b7c75bdf88d8ac3b2e3c5ced79</td>\n",
              "      <td>3</td>\n",
              "      <td>9</td>\n",
              "      <td>5.48</td>\n",
              "      <td>5.48</td>\n",
              "      <td>completed</td>\n",
              "      <td>2017-05-19</td>\n",
              "    </tr>\n",
              "    <tr>\n",
              "      <th>252</th>\n",
              "      <td>4151effb5a7998e13a60a4710c238d80</td>\n",
              "      <td>73dd38be4f6a294a9caad81643a405b2</td>\n",
              "      <td>3</td>\n",
              "      <td>9</td>\n",
              "      <td>4.95</td>\n",
              "      <td>4.95</td>\n",
              "      <td>completed</td>\n",
              "      <td>2017-05-19</td>\n",
              "    </tr>\n",
              "    <tr>\n",
              "      <th>255</th>\n",
              "      <td>5b36fd8175ac9d0331f6abee692ea9a5</td>\n",
              "      <td>db5ac86cc05e59a3289625918646feee</td>\n",
              "      <td>3</td>\n",
              "      <td>7</td>\n",
              "      <td>4.00</td>\n",
              "      <td>4.00</td>\n",
              "      <td>completed</td>\n",
              "      <td>2017-05-20</td>\n",
              "    </tr>\n",
              "    <tr>\n",
              "      <th>462</th>\n",
              "      <td>f93104b264fb4f2f361e09e7386161f8</td>\n",
              "      <td>b7e736916b5b00398bd91d7be32f8793</td>\n",
              "      <td>3</td>\n",
              "      <td>8</td>\n",
              "      <td>4.81</td>\n",
              "      <td>4.81</td>\n",
              "      <td>completed</td>\n",
              "      <td>2017-05-19</td>\n",
              "    </tr>\n",
              "    <tr>\n",
              "      <th>463</th>\n",
              "      <td>29750b7039b98185926d4579c3e5e7ec</td>\n",
              "      <td>bec6de2792168e524aac80fd6060ee9e</td>\n",
              "      <td>0</td>\n",
              "      <td>1</td>\n",
              "      <td>4.43</td>\n",
              "      <td>0.00</td>\n",
              "      <td>completed</td>\n",
              "      <td>2017-05-19</td>\n",
              "    </tr>\n",
              "    <tr>\n",
              "      <th>464</th>\n",
              "      <td>9e6d7f7a4cf4dc412c4c412fe0d8d80f</td>\n",
              "      <td>52a5237b32e89b2a1e65b2ae9c22b8df</td>\n",
              "      <td>2</td>\n",
              "      <td>9</td>\n",
              "      <td>6.68</td>\n",
              "      <td>6.68</td>\n",
              "      <td>completed</td>\n",
              "      <td>2017-05-20</td>\n",
              "    </tr>\n",
              "    <tr>\n",
              "      <th>472</th>\n",
              "      <td>818180fd56f18df75b7f92716cd4c4f8</td>\n",
              "      <td>5aa18c133c7cacc6b7649e67f20f41e7</td>\n",
              "      <td>0</td>\n",
              "      <td>0</td>\n",
              "      <td>6.53</td>\n",
              "      <td>6.53</td>\n",
              "      <td>completed</td>\n",
              "      <td>2017-05-18</td>\n",
              "    </tr>\n",
              "  </tbody>\n",
              "</table>\n",
              "</div>"
            ],
            "text/plain": [
              "                              ride_id  ...       date\n",
              "237  bb85aff73ae15b27632c520ecf9bd58c  ... 2017-05-17\n",
              "238  4afe23695ba43d436b115c294c2f64d2  ... 2017-05-18\n",
              "239  c48a1f5cb7bf71b5278cbb2967399dd5  ... 2017-05-18\n",
              "250  623c2c44ec7709c3c791fa5728448d01  ... 2017-05-19\n",
              "252  4151effb5a7998e13a60a4710c238d80  ... 2017-05-19\n",
              "255  5b36fd8175ac9d0331f6abee692ea9a5  ... 2017-05-20\n",
              "462  f93104b264fb4f2f361e09e7386161f8  ... 2017-05-19\n",
              "463  29750b7039b98185926d4579c3e5e7ec  ... 2017-05-19\n",
              "464  9e6d7f7a4cf4dc412c4c412fe0d8d80f  ... 2017-05-20\n",
              "472  818180fd56f18df75b7f92716cd4c4f8  ... 2017-05-18\n",
              "\n",
              "[10 rows x 8 columns]"
            ]
          },
          "metadata": {
            "tags": []
          },
          "execution_count": 7
        }
      ]
    },
    {
      "cell_type": "code",
      "metadata": {
        "id": "jvSriee49h91",
        "colab_type": "code",
        "outputId": "56d72e20-9454-46c3-eb41-211f4eeb4fb3",
        "colab": {
          "base_uri": "https://localhost:8080/",
          "height": 52
        }
      },
      "source": [
        "print(rides2.shape[0])\n",
        "print(rides2.user_id.nunique())\n",
        "# nombre de rangs du fichier VS nombre d'utilisateurs uniques repertoriés dans le ficher rides\n",
        "rides2.to_csv('rides2.csv',index=False)"
      ],
      "execution_count": 0,
      "outputs": [
        {
          "output_type": "stream",
          "text": [
            "81825\n",
            "40850\n"
          ],
          "name": "stdout"
        }
      ]
    },
    {
      "cell_type": "code",
      "metadata": {
        "id": "58Lp0AOQ9nop",
        "colab_type": "code",
        "outputId": "f9bb9664-3c43-4fec-b5ab-d49cff1e5457",
        "colab": {
          "base_uri": "https://localhost:8080/",
          "height": 173
        }
      },
      "source": [
        "rides2 = pd.read_csv('rides2.csv')\n",
        "rides2.isnull().sum()\n",
        "# vérification de l'absence de données manquantes"
      ],
      "execution_count": 0,
      "outputs": [
        {
          "output_type": "execute_result",
          "data": {
            "text/plain": [
              "ride_id          0\n",
              "user_id          0\n",
              "loyalty_level    0\n",
              "lp_earned        0\n",
              "price_nominal    0\n",
              "ad_price         0\n",
              "state            0\n",
              "date             0\n",
              "dtype: int64"
            ]
          },
          "metadata": {
            "tags": []
          },
          "execution_count": 9
        }
      ]
    },
    {
      "cell_type": "code",
      "metadata": {
        "id": "EE5JCy6b9rrS",
        "colab_type": "code",
        "outputId": "7e6079b4-02f6-4c22-902b-d6eb350a3904",
        "colab": {
          "base_uri": "https://localhost:8080/",
          "height": 35
        }
      },
      "source": [
        "rides2.shape"
      ],
      "execution_count": 0,
      "outputs": [
        {
          "output_type": "execute_result",
          "data": {
            "text/plain": [
              "(81825, 8)"
            ]
          },
          "metadata": {
            "tags": []
          },
          "execution_count": 10
        }
      ]
    },
    {
      "cell_type": "code",
      "metadata": {
        "id": "GgLFfV6_9sQT",
        "colab_type": "code",
        "outputId": "8feb059a-fcd8-4b19-f93e-0511832a9d68",
        "colab": {
          "base_uri": "https://localhost:8080/",
          "height": 35
        }
      },
      "source": [
        "toutes_courses_confondues = rides[(rides.date > '2017-05-16')&(rides.date < '2017-05-22') ]\n",
        "courses_avant = rides[(rides.date < '2017-05-17')]\n",
        "courses_après = rides[(rides.date > '2017-05-21')]\n",
        "print (toutes_courses_confondues.shape[0],courses_avant.shape[0],courses_après.shape[0])"
      ],
      "execution_count": 0,
      "outputs": [
        {
          "output_type": "stream",
          "text": [
            "110737 1318269 16658\n"
          ],
          "name": "stdout"
        }
      ]
    },
    {
      "cell_type": "markdown",
      "metadata": {
        "id": "HJpPxF5z91Xb",
        "colab_type": "text"
      },
      "source": [
        "Rides2 contient donc 81 825 rangs, correspondant à 81 825 courses complétées entre les 17 et 21 mai.\n",
        "\n",
        "En comptant les courses non complétées dans le même crénau de jours, on montait à 110 737 courses.\n",
        "\n",
        "Il y avait 1 318 269 courses complétées ou non repertoriées avant ces dates, et 16 658 courses repertoriées après.\n",
        "\n",
        "### Nombre d'enregistrements du code promotionnel"
      ]
    },
    {
      "cell_type": "code",
      "metadata": {
        "id": "zX_a6W-197LT",
        "colab_type": "code",
        "outputId": "0b966655-0583-4233-9f47-187d9ba9ff46",
        "colab": {
          "base_uri": "https://localhost:8080/",
          "height": 35
        }
      },
      "source": [
        "events = events1[(events1.promocode_name=='promocode')] #selection de la campagne à analyser\n",
        "# le nombre d'utilisateurs uniques ayant au moins enregistré le code promo \n",
        "claimers = f\"il y a eu {events.user_id.nunique()} utilisateurs uniques ayant au moins enregistré le code dans leur application.\"\n",
        "claimers"
      ],
      "execution_count": 0,
      "outputs": [
        {
          "output_type": "execute_result",
          "data": {
            "text/plain": [
              "'il y a eu 9805 utilisateurs uniques ayant au moins enregistré le code dans leur application.'"
            ]
          },
          "metadata": {
            "tags": []
          },
          "execution_count": 12
        }
      ]
    },
    {
      "cell_type": "code",
      "metadata": {
        "id": "QdXrnDMd99gz",
        "colab_type": "code",
        "outputId": "76514c12-1826-4c1e-a8ab-babf55718013",
        "colab": {
          "base_uri": "https://localhost:8080/",
          "height": 35
        }
      },
      "source": [
        "verif = events[events.type=='coupon_created']\n",
        "verif.user_id.nunique()"
      ],
      "execution_count": 0,
      "outputs": [
        {
          "output_type": "execute_result",
          "data": {
            "text/plain": [
              "9805"
            ]
          },
          "metadata": {
            "tags": []
          },
          "execution_count": 13
        }
      ]
    },
    {
      "cell_type": "markdown",
      "metadata": {
        "id": "aHul1LN1-C3E",
        "colab_type": "text"
      },
      "source": [
        "le nombre d'utilisateurs uniques correspond bien. J'ai choisi de seulement filtrer par 'promocode' dans l'étape précédente pour garder les ride_id repertoriées avec les 'other_coupon_action'."
      ]
    },
    {
      "cell_type": "code",
      "metadata": {
        "id": "Zk558u5J-Dj6",
        "colab_type": "code",
        "colab": {}
      },
      "source": [
        "#filtrage d'une colonne superflue\n",
        "events.drop('event_id',axis=1,inplace=True)"
      ],
      "execution_count": 0,
      "outputs": []
    },
    {
      "cell_type": "code",
      "metadata": {
        "id": "IBJlmNk4-G2N",
        "colab_type": "code",
        "outputId": "6b50747d-8bb7-4fc7-a15a-f3b5096713b3",
        "colab": {
          "base_uri": "https://localhost:8080/",
          "height": 35
        }
      },
      "source": [
        "events.shape"
      ],
      "execution_count": 0,
      "outputs": [
        {
          "output_type": "execute_result",
          "data": {
            "text/plain": [
              "(41988, 4)"
            ]
          },
          "metadata": {
            "tags": []
          },
          "execution_count": 18
        }
      ]
    },
    {
      "cell_type": "code",
      "metadata": {
        "id": "0Xf4lsYu-JQd",
        "colab_type": "code",
        "outputId": "3fe0ff07-9806-463e-9fe3-c2a1af9372ac",
        "colab": {
          "base_uri": "https://localhost:8080/",
          "height": 52
        }
      },
      "source": [
        "print(events.user_id.nunique())\n",
        "print(rides2.user_id.nunique())"
      ],
      "execution_count": 0,
      "outputs": [
        {
          "output_type": "stream",
          "text": [
            "9805\n",
            "40850\n"
          ],
          "name": "stdout"
        }
      ]
    },
    {
      "cell_type": "markdown",
      "metadata": {
        "id": "IM8rEdCV-Nvn",
        "colab_type": "text"
      },
      "source": [
        "9 805 utilisateurs ont enregistré le code dans leur app sur les 40 805 ayant complété des courses dans le créneau de dates étudiées."
      ]
    },
    {
      "cell_type": "code",
      "metadata": {
        "id": "bzo9L0qO-OKy",
        "colab_type": "code",
        "outputId": "0e333f83-171c-407e-9eb9-ba2ee9f63120",
        "colab": {
          "base_uri": "https://localhost:8080/",
          "height": 35
        }
      },
      "source": [
        "convertis = pd.merge(events,rides2, on='user_id',how='inner')\n",
        "convertis[convertis.duplicated(['user_id','ride_id_y'])]\n",
        "convertis.user_id.nunique()"
      ],
      "execution_count": 0,
      "outputs": [
        {
          "output_type": "execute_result",
          "data": {
            "text/plain": [
              "7004"
            ]
          },
          "metadata": {
            "tags": []
          },
          "execution_count": 20
        }
      ]
    },
    {
      "cell_type": "markdown",
      "metadata": {
        "id": "ioAz3_Ni-Sb2",
        "colab_type": "text"
      },
      "source": [
        "### Taux de conversion"
      ]
    },
    {
      "cell_type": "code",
      "metadata": {
        "id": "mc9JIYe6-TK4",
        "colab_type": "code",
        "outputId": "e9825152-758b-4b36-bad3-032be4174415",
        "colab": {
          "base_uri": "https://localhost:8080/",
          "height": 55
        }
      },
      "source": [
        "convertisbis = convertis.groupby('user_id').agg(sum)\n",
        "convertis_reels = convertisbis[convertisbis.lp_earned>0].reset_index()\n",
        "activated = f\"{convertis_reels.shape[0]} utilisateurs ont utilisé le code promotionnel au cours des dates imparties, soit un taux de conversion de {round(convertis_reels.shape[0]*100/events.user_id.nunique(),0)}%.\"\n",
        "activated"
      ],
      "execution_count": 0,
      "outputs": [
        {
          "output_type": "execute_result",
          "data": {
            "text/plain": [
              "'6877 utilisateurs ont utilisé le code promotionnel au cours des dates imparties, soit un taux de conversion de 70.0%.'"
            ]
          },
          "metadata": {
            "tags": []
          },
          "execution_count": 21
        }
      ]
    },
    {
      "cell_type": "markdown",
      "metadata": {
        "id": "HsEDdWkm-Yqa",
        "colab_type": "text"
      },
      "source": [
        "127 utilisateurs n'ont pas gagné de points de fidélité, malgré des courses complétées pour certains, d'où la différence entre le 7004 utilisateurs.\n",
        "\n",
        "### Vérification avec l'un des 127 utilisateurs :"
      ]
    },
    {
      "cell_type": "code",
      "metadata": {
        "id": "fuCXPVBl-ZYu",
        "colab_type": "code",
        "outputId": "df75577d-ac9f-4e0d-d772-78f479909ba2",
        "colab": {
          "base_uri": "https://localhost:8080/",
          "height": 125
        }
      },
      "source": [
        "faux_convertis = convertisbis[convertisbis.lp_earned==0]\n",
        "print(faux_convertis.shape)\n",
        "faux_convertis.head(1)"
      ],
      "execution_count": 0,
      "outputs": [
        {
          "output_type": "stream",
          "text": [
            "(127, 4)\n"
          ],
          "name": "stdout"
        },
        {
          "output_type": "execute_result",
          "data": {
            "text/html": [
              "<div>\n",
              "<style scoped>\n",
              "    .dataframe tbody tr th:only-of-type {\n",
              "        vertical-align: middle;\n",
              "    }\n",
              "\n",
              "    .dataframe tbody tr th {\n",
              "        vertical-align: top;\n",
              "    }\n",
              "\n",
              "    .dataframe thead th {\n",
              "        text-align: right;\n",
              "    }\n",
              "</style>\n",
              "<table border=\"1\" class=\"dataframe\">\n",
              "  <thead>\n",
              "    <tr style=\"text-align: right;\">\n",
              "      <th></th>\n",
              "      <th>loyalty_level</th>\n",
              "      <th>lp_earned</th>\n",
              "      <th>price_nominal</th>\n",
              "      <th>ad_price</th>\n",
              "    </tr>\n",
              "    <tr>\n",
              "      <th>user_id</th>\n",
              "      <th></th>\n",
              "      <th></th>\n",
              "      <th></th>\n",
              "      <th></th>\n",
              "    </tr>\n",
              "  </thead>\n",
              "  <tbody>\n",
              "    <tr>\n",
              "      <th>0298574839ee4cede781ab8bfff2e4bc</th>\n",
              "      <td>0</td>\n",
              "      <td>0</td>\n",
              "      <td>8.6</td>\n",
              "      <td>0.0</td>\n",
              "    </tr>\n",
              "  </tbody>\n",
              "</table>\n",
              "</div>"
            ],
            "text/plain": [
              "                                  loyalty_level  ...  ad_price\n",
              "user_id                                          ...          \n",
              "0298574839ee4cede781ab8bfff2e4bc              0  ...       0.0\n",
              "\n",
              "[1 rows x 4 columns]"
            ]
          },
          "metadata": {
            "tags": []
          },
          "execution_count": 23
        }
      ]
    },
    {
      "cell_type": "code",
      "metadata": {
        "id": "glxBf5j2-fId",
        "colab_type": "code",
        "outputId": "d6ad5a04-3cfb-4f2f-d7f1-486c3b3d725a",
        "colab": {
          "base_uri": "https://localhost:8080/",
          "height": 210
        }
      },
      "source": [
        "rides[rides.user_id=='0298574839ee4cede781ab8bfff2e4bc']"
      ],
      "execution_count": 0,
      "outputs": [
        {
          "output_type": "execute_result",
          "data": {
            "text/html": [
              "<div>\n",
              "<style scoped>\n",
              "    .dataframe tbody tr th:only-of-type {\n",
              "        vertical-align: middle;\n",
              "    }\n",
              "\n",
              "    .dataframe tbody tr th {\n",
              "        vertical-align: top;\n",
              "    }\n",
              "\n",
              "    .dataframe thead th {\n",
              "        text-align: right;\n",
              "    }\n",
              "</style>\n",
              "<table border=\"1\" class=\"dataframe\">\n",
              "  <thead>\n",
              "    <tr style=\"text-align: right;\">\n",
              "      <th></th>\n",
              "      <th>ride_id</th>\n",
              "      <th>user_id</th>\n",
              "      <th>loyalty_level</th>\n",
              "      <th>booking_id</th>\n",
              "      <th>isGuest</th>\n",
              "      <th>lp_earned</th>\n",
              "      <th>price.loyalty.points_spent</th>\n",
              "      <th>price_nominal</th>\n",
              "      <th>ad_price</th>\n",
              "      <th>state</th>\n",
              "      <th>date</th>\n",
              "    </tr>\n",
              "  </thead>\n",
              "  <tbody>\n",
              "    <tr>\n",
              "      <th>1406581</th>\n",
              "      <td>9201d0a0bbe36a37fdd343382819a3e6</td>\n",
              "      <td>0298574839ee4cede781ab8bfff2e4bc</td>\n",
              "      <td>0</td>\n",
              "      <td>NaN</td>\n",
              "      <td>False</td>\n",
              "      <td>0</td>\n",
              "      <td>NaN</td>\n",
              "      <td>4.29</td>\n",
              "      <td>0.0</td>\n",
              "      <td>not_completed</td>\n",
              "      <td>2017-05-21</td>\n",
              "    </tr>\n",
              "    <tr>\n",
              "      <th>1414564</th>\n",
              "      <td>450d9af26d4636365acde2fe5510c0bb</td>\n",
              "      <td>0298574839ee4cede781ab8bfff2e4bc</td>\n",
              "      <td>0</td>\n",
              "      <td>NaN</td>\n",
              "      <td>False</td>\n",
              "      <td>0</td>\n",
              "      <td>NaN</td>\n",
              "      <td>4.34</td>\n",
              "      <td>0.0</td>\n",
              "      <td>not_completed</td>\n",
              "      <td>2017-05-21</td>\n",
              "    </tr>\n",
              "    <tr>\n",
              "      <th>1415359</th>\n",
              "      <td>ae6cab70ea0f50a4ae904f878c5ae1d0</td>\n",
              "      <td>0298574839ee4cede781ab8bfff2e4bc</td>\n",
              "      <td>0</td>\n",
              "      <td>NaN</td>\n",
              "      <td>False</td>\n",
              "      <td>0</td>\n",
              "      <td>NaN</td>\n",
              "      <td>4.30</td>\n",
              "      <td>0.0</td>\n",
              "      <td>completed</td>\n",
              "      <td>2017-05-21</td>\n",
              "    </tr>\n",
              "  </tbody>\n",
              "</table>\n",
              "</div>"
            ],
            "text/plain": [
              "                                  ride_id  ...       date\n",
              "1406581  9201d0a0bbe36a37fdd343382819a3e6  ... 2017-05-21\n",
              "1414564  450d9af26d4636365acde2fe5510c0bb  ... 2017-05-21\n",
              "1415359  ae6cab70ea0f50a4ae904f878c5ae1d0  ... 2017-05-21\n",
              "\n",
              "[3 rows x 11 columns]"
            ]
          },
          "metadata": {
            "tags": []
          },
          "execution_count": 25
        }
      ]
    },
    {
      "cell_type": "markdown",
      "metadata": {
        "id": "UGTGmvl4-jOG",
        "colab_type": "text"
      },
      "source": [
        "Hypothèse : ces 127 personnes n'étaient pas toutes des clients d'affaires(isGuest = 1, un utilisateur affilié à une entreprise ne gagne pas de points pour lui-même), mais certains ont pu vouloir essayer de cumuler 2 promotions disctinces. Dans le cas au-dessus, le prix final était de 0€, ce qui explique l'absence de points attribués.\n",
        "\n",
        "**Mise en graphique de la répartition des 6877 utilisateurs ayant profité de la promotion :**"
      ]
    },
    {
      "cell_type": "code",
      "metadata": {
        "id": "R-ermgsG-nyn",
        "colab_type": "code",
        "outputId": "af1ece8b-5c93-408d-c028-514658ad08b2",
        "colab": {
          "base_uri": "https://localhost:8080/",
          "height": 218
        }
      },
      "source": [
        "#ditribution des convertis\n",
        "convert_distrib = convertis_reels.merge(convertis, how = 'inner', on = ['user_id'])\n",
        "cd = convert_distrib.groupby('user_id').agg('mean').reset_index()\n",
        "cd.head()"
      ],
      "execution_count": 0,
      "outputs": [
        {
          "output_type": "execute_result",
          "data": {
            "text/html": [
              "<div>\n",
              "<style scoped>\n",
              "    .dataframe tbody tr th:only-of-type {\n",
              "        vertical-align: middle;\n",
              "    }\n",
              "\n",
              "    .dataframe tbody tr th {\n",
              "        vertical-align: top;\n",
              "    }\n",
              "\n",
              "    .dataframe thead th {\n",
              "        text-align: right;\n",
              "    }\n",
              "</style>\n",
              "<table border=\"1\" class=\"dataframe\">\n",
              "  <thead>\n",
              "    <tr style=\"text-align: right;\">\n",
              "      <th></th>\n",
              "      <th>user_id</th>\n",
              "      <th>loyalty_level_x</th>\n",
              "      <th>lp_earned_x</th>\n",
              "      <th>price_nominal_x</th>\n",
              "      <th>ad_price_x</th>\n",
              "      <th>loyalty_level_y</th>\n",
              "      <th>lp_earned_y</th>\n",
              "      <th>price_nominal_y</th>\n",
              "      <th>ad_price_y</th>\n",
              "    </tr>\n",
              "  </thead>\n",
              "  <tbody>\n",
              "    <tr>\n",
              "      <th>0</th>\n",
              "      <td>000e99b20d433fd8e5661c72bd8b6d20</td>\n",
              "      <td>108.0</td>\n",
              "      <td>396.0</td>\n",
              "      <td>238.05</td>\n",
              "      <td>238.05</td>\n",
              "      <td>3.0</td>\n",
              "      <td>11.000000</td>\n",
              "      <td>6.612500</td>\n",
              "      <td>6.612500</td>\n",
              "    </tr>\n",
              "    <tr>\n",
              "      <th>1</th>\n",
              "      <td>0018e1fbfa6dccb58da89ace3f4465a6</td>\n",
              "      <td>0.0</td>\n",
              "      <td>10.0</td>\n",
              "      <td>9.84</td>\n",
              "      <td>9.84</td>\n",
              "      <td>0.0</td>\n",
              "      <td>5.000000</td>\n",
              "      <td>4.920000</td>\n",
              "      <td>4.920000</td>\n",
              "    </tr>\n",
              "    <tr>\n",
              "      <th>2</th>\n",
              "      <td>001940ba5831818d888f8b1a0030a25c</td>\n",
              "      <td>99.0</td>\n",
              "      <td>308.0</td>\n",
              "      <td>201.74</td>\n",
              "      <td>182.16</td>\n",
              "      <td>3.0</td>\n",
              "      <td>9.333333</td>\n",
              "      <td>6.113333</td>\n",
              "      <td>5.520000</td>\n",
              "    </tr>\n",
              "    <tr>\n",
              "      <th>3</th>\n",
              "      <td>002083606dbb4e3a2d527443888f8184</td>\n",
              "      <td>432.0</td>\n",
              "      <td>1552.0</td>\n",
              "      <td>1004.64</td>\n",
              "      <td>986.08</td>\n",
              "      <td>3.0</td>\n",
              "      <td>10.777778</td>\n",
              "      <td>6.976667</td>\n",
              "      <td>6.847778</td>\n",
              "    </tr>\n",
              "    <tr>\n",
              "      <th>4</th>\n",
              "      <td>002ebebbcc5dbcdc464d162281219e3a</td>\n",
              "      <td>4.0</td>\n",
              "      <td>20.0</td>\n",
              "      <td>12.20</td>\n",
              "      <td>11.46</td>\n",
              "      <td>2.0</td>\n",
              "      <td>10.000000</td>\n",
              "      <td>6.100000</td>\n",
              "      <td>5.730000</td>\n",
              "    </tr>\n",
              "  </tbody>\n",
              "</table>\n",
              "</div>"
            ],
            "text/plain": [
              "                            user_id  ...  ad_price_y\n",
              "0  000e99b20d433fd8e5661c72bd8b6d20  ...    6.612500\n",
              "1  0018e1fbfa6dccb58da89ace3f4465a6  ...    4.920000\n",
              "2  001940ba5831818d888f8b1a0030a25c  ...    5.520000\n",
              "3  002083606dbb4e3a2d527443888f8184  ...    6.847778\n",
              "4  002ebebbcc5dbcdc464d162281219e3a  ...    5.730000\n",
              "\n",
              "[5 rows x 9 columns]"
            ]
          },
          "metadata": {
            "tags": []
          },
          "execution_count": 26
        }
      ]
    },
    {
      "cell_type": "code",
      "metadata": {
        "id": "lGaYtws7-p45",
        "colab_type": "code",
        "outputId": "acf7c8ab-9e5c-492e-8eb6-9491972f346a",
        "colab": {
          "base_uri": "https://localhost:8080/",
          "height": 496
        }
      },
      "source": [
        "sns.set_style(\"white\")\n",
        "fig, ax = plt.subplots()\n",
        "cd.loyalty_level_y.hist(ax=ax, figsize=(9,7),color=['indianred'])\n",
        "from pylab import MaxNLocator\n",
        "xa = ax.get_xaxis()\n",
        "xa.set_major_locator(MaxNLocator(integer=True))\n",
        "plt.title('Répartition des utilisateurs convertis selon leur \\n niveau dans le programme de fidélité \\n',fontsize= 20)\n",
        "plt.savefig('repartition_convertis.png', bbox_inches='tight')\n",
        "plt.show()"
      ],
      "execution_count": 0,
      "outputs": [
        {
          "output_type": "display_data",
          "data": {
            "image/png": "[encoded data removed]",
            "text/plain": [
              "<Figure size 648x504 with 1 Axes>"
            ]
          },
          "metadata": {
            "tags": []
          }
        }
      ]
    },
    {
      "cell_type": "code",
      "metadata": {
        "id": "kcECiE49-0RL",
        "colab_type": "code",
        "colab": {}
      },
      "source": [
        "nonbenef = pd.merge(cd,events, how = 'outer', on = 'user_id',indicator=True)"
      ],
      "execution_count": 0,
      "outputs": []
    },
    {
      "cell_type": "markdown",
      "metadata": {
        "id": "JEi3yUPc-2rc",
        "colab_type": "text"
      },
      "source": [
        "Nonbenef est un set des ID de tous les utilisateurs n'ayant pas profité du code promotionnel alors qu'ils l'avaient enregistré."
      ]
    },
    {
      "cell_type": "code",
      "metadata": {
        "id": "8KgMKudM-4t1",
        "colab_type": "code",
        "outputId": "f8d74dfb-d4c2-4e7d-adf4-804efc6425e6",
        "colab": {
          "base_uri": "https://localhost:8080/",
          "height": 35
        }
      },
      "source": [
        "nonbenef =set(events.user_id.tolist())-set(convertis_reels.user_id.tolist())\n",
        "len(nonbenef)"
      ],
      "execution_count": 0,
      "outputs": [
        {
          "output_type": "execute_result",
          "data": {
            "text/plain": [
              "2928"
            ]
          },
          "metadata": {
            "tags": []
          },
          "execution_count": 29
        }
      ]
    },
    {
      "cell_type": "code",
      "metadata": {
        "id": "6bfgc4ee-7-5",
        "colab_type": "code",
        "outputId": "0daa6e5e-743a-4704-f826-59a16e3f7eb8",
        "colab": {
          "base_uri": "https://localhost:8080/",
          "height": 35
        }
      },
      "source": [
        "cd.user_id.nunique() + len(nonbenef)\n",
        "# les chiffres sont cohérents avec les résultats précédents."
      ],
      "execution_count": 0,
      "outputs": [
        {
          "output_type": "execute_result",
          "data": {
            "text/plain": [
              "9805"
            ]
          },
          "metadata": {
            "tags": []
          },
          "execution_count": 30
        }
      ]
    },
    {
      "cell_type": "code",
      "metadata": {
        "id": "iMNEXze4_AUb",
        "colab_type": "code",
        "outputId": "b629df08-4ff2-4016-bdc3-4d412bd82b96",
        "colab": {
          "base_uri": "https://localhost:8080/",
          "height": 52
        }
      },
      "source": [
        "non_convertis = events[events.user_id.isin(nonbenef)==True]\n",
        "# extractions du dataset 'Events' des ID des utilisateurs non convertis\n",
        "non_convertis_bis = pd.merge(non_convertis,rides,on='user_id',how='inner')\n",
        "# croisement des ID réupérés avec ceux du dataset originel 'rides'\n",
        "print(non_convertis_bis.user_id.nunique())\n",
        "\n",
        "#explication dessous\n",
        "len(set(events.user_id.unique())-set(rides.user_id.unique()))"
      ],
      "execution_count": 0,
      "outputs": [
        {
          "output_type": "stream",
          "text": [
            "2473\n"
          ],
          "name": "stdout"
        },
        {
          "output_type": "execute_result",
          "data": {
            "text/plain": [
              "455"
            ]
          },
          "metadata": {
            "tags": []
          },
          "execution_count": 31
        }
      ]
    },
    {
      "cell_type": "markdown",
      "metadata": {
        "id": "Rc1DhmC7_DMm",
        "colab_type": "text"
      },
      "source": [
        "Dans ma liste de non-convertis, je m'attendais à retrouver les 2 928 utilisateurs de mon set Nonbenef, mais en créant ensuite le dataset Non_convertis, je n'arrivais qu'à 2 473 utilisateurs.\n",
        "\n",
        "Il y a 455 utilisateurs non convertis enregistrés dans le dataset Events mais pas dans le dataset de base Rides.\n",
        "\n",
        "Ils ont ouvert leur application pour enregistrer le code promotionnel, mais n'ont ensuite même plus fait la moindre simulation de course, probablement par manque de besoin du service ou préférence pour la concurrence. Ils n'ont même pas de courses répertoriées comme non complétées.\n",
        "\n",
        "### Distribution des 2473 utilisateurs non convertis\n",
        "\n",
        "Sans surprise, ce sont des gens globalement beaucoup moins usagers du service. La moitié d'entre eux sont au niveau 0. En comparaison, environ 45% des utilisateurs convertis étaient des utilisateurs au niveau 2 ou 3."
      ]
    },
    {
      "cell_type": "code",
      "metadata": {
        "id": "anDwccJR_D2-",
        "colab_type": "code",
        "outputId": "b26de155-4490-4052-f6a3-bab0f14b8735",
        "colab": {
          "base_uri": "https://localhost:8080/",
          "height": 496
        }
      },
      "source": [
        "fig, ax = plt.subplots()\n",
        "non_convertis_bis[['loyalty_level','user_id']].groupby('user_id')['loyalty_level'].agg('unique').apply(lambda x: x[0]).hist(ax=ax, figsize=(9,7))\n",
        "xa = ax.get_xaxis()\n",
        "xa.set_major_locator(MaxNLocator(integer=True))\n",
        "plt.title('Répartition des utilisateurs NON convertis selon leur \\n niveau dans le programme de fidélité \\n',fontsize= 20)\n",
        "plt.savefig('repartition_NONconvertis.png', bbox_inches='tight')\n",
        "plt.show()"
      ],
      "execution_count": 0,
      "outputs": [
        {
          "output_type": "display_data",
          "data": {
            "image/png": "[encoded data removed]",
            "text/plain": [
              "<Figure size 648x504 with 1 Axes>"
            ]
          },
          "metadata": {
            "tags": []
          }
        }
      ]
    },
    {
      "cell_type": "markdown",
      "metadata": {
        "id": "evFD1pe8_Mhc",
        "colab_type": "text"
      },
      "source": [
        "### Nombre de courses effectuées avec le code promotionnel :"
      ]
    },
    {
      "cell_type": "code",
      "metadata": {
        "id": "GiOPa9Jo_NGZ",
        "colab_type": "code",
        "outputId": "e7e0a9eb-5043-4db9-86ce-36016235845f",
        "colab": {
          "base_uri": "https://localhost:8080/",
          "height": 35
        }
      },
      "source": [
        "completed_rides = events[events.type == 'other_coupon_action'].dropna()\n",
        "print(completed_rides.shape[0],',', completed_rides.ride_id.nunique())"
      ],
      "execution_count": 0,
      "outputs": [
        {
          "output_type": "stream",
          "text": [
            "32178 , 32178\n"
          ],
          "name": "stdout"
        }
      ]
    },
    {
      "cell_type": "markdown",
      "metadata": {
        "id": "wSfZgIIY_S2f",
        "colab_type": "text"
      },
      "source": [
        "Les courses dans Events sans ride_id correspondent aux enregistrements du code promo par les utilisateurs. \n",
        "\n",
        "A partir de là, je suppose qu'il y a donc eu 32 178 courses effectuées avec ce code promo."
      ]
    },
    {
      "cell_type": "code",
      "metadata": {
        "id": "Of_yc2aJ_UtW",
        "colab_type": "code",
        "outputId": "78f3ee9c-1b79-4394-e6ef-f95ae39f314e",
        "colab": {
          "base_uri": "https://localhost:8080/",
          "height": 35
        }
      },
      "source": [
        "# courses_promo pour courses complétées avec le code promo activé\n",
        "courses_promo = pd.merge(completed_rides,rides2, on='ride_id',how='inner')\n",
        "courses_promo=courses_promo[courses_promo.promocode_name=='promocode']\n",
        "courses_promo.to_csv('course_promo.csv',index=False)\n",
        "courses_promo.shape"
      ],
      "execution_count": 0,
      "outputs": [
        {
          "output_type": "execute_result",
          "data": {
            "text/plain": [
              "(14218, 11)"
            ]
          },
          "metadata": {
            "tags": []
          },
          "execution_count": 35
        }
      ]
    },
    {
      "cell_type": "markdown",
      "metadata": {
        "id": "6rJEwvpw_Xp6",
        "colab_type": "text"
      },
      "source": [
        "Cependant, il n'y a que 14 218 courses répertoriées après la fusions de toutes les courses complétées d'Events et celles de Rides2, le dataset qui regroupe l'ensemble des courses complétées dans les dates limites."
      ]
    },
    {
      "cell_type": "code",
      "metadata": {
        "id": "YlIgo2M1_bSX",
        "colab_type": "code",
        "outputId": "599ea757-ade4-4c7f-e1a9-21a9bdb61359",
        "colab": {
          "base_uri": "https://localhost:8080/",
          "height": 35
        }
      },
      "source": [
        "missing_id =set(events1.ride_id.tolist())-set(rides.ride_id.tolist())\n",
        "len(missing_id)"
      ],
      "execution_count": 0,
      "outputs": [
        {
          "output_type": "execute_result",
          "data": {
            "text/plain": [
              "62148"
            ]
          },
          "metadata": {
            "tags": []
          },
          "execution_count": 60
        }
      ]
    },
    {
      "cell_type": "markdown",
      "metadata": {
        "id": "JL-cdxvS_ger",
        "colab_type": "text"
      },
      "source": [
        "Dans les ride_id du dataset original Events, il y en a 62 148 qui ne sont pas présents dans le fichier originel Rides. Cela affecte la fusion que j'opère entre mes datasets Completed_Rides et Rides2. \n",
        "\n",
        "Mon dataset Courses_promo qui regroupe l'ensemble des courses effectuées avec le code promo ne contient que 14 218 références. \n",
        "\n",
        "### Proportion des courses effectuées avec le code promo selon le niveau atteint au programme Fidélité par l'utilisateur\n",
        "\n",
        "Je poursuis l'analyse des 14 218 courses répertoriées :"
      ]
    },
    {
      "cell_type": "code",
      "metadata": {
        "id": "PTfq0YcZ_vGL",
        "colab_type": "code",
        "colab": {}
      },
      "source": [
        "completed_rides_id = (completed_rides.ride_id.tolist())\n",
        "rides2['code_oui'] = np.where(rides2['ride_id'].isin(completed_rides_id)==True, 1, 0)\n",
        "rides2['code_non'] = np.where(rides2['ride_id'].isin(completed_rides_id)==False, 1, 0)\n",
        "rides2.drop_duplicates(inplace=True)\n",
        "rides2.to_csv('rides2.csv',index=False)"
      ],
      "execution_count": 0,
      "outputs": []
    },
    {
      "cell_type": "code",
      "metadata": {
        "id": "NnOpjCPP_4np",
        "colab_type": "code",
        "outputId": "8ccd919d-7dd3-4ec9-bfeb-20fd583eafdc",
        "colab": {
          "base_uri": "https://localhost:8080/",
          "height": 509
        }
      },
      "source": [
        "fig, ax = plt.subplots()\n",
        "rides2[['code_oui','code_non','loyalty_level']].groupby(['loyalty_level']).agg('sum').plot.bar(ax=ax, figsize=(9,7),color=['lightcoral', 'steelblue'])\n",
        "plt.legend(bbox_to_anchor=(.75, .98), loc=2,prop={'size': 20})\n",
        "plt.title('Comparaison entre les courses effectuées avec \\nou sans le codo promo pendant les dates retenues\\n',fontsize= 20)\n",
        "plt.savefig('repartition_courses.png', bbox_inches='tight')\n",
        "plt.xticks(rotation = 0)\n",
        "plt.show()"
      ],
      "execution_count": 0,
      "outputs": [
        {
          "output_type": "display_data",
          "data": {
            "image/png": "[encoded data removed]",
            "text/plain": [
              "<Figure size 648x504 with 1 Axes>"
            ]
          },
          "metadata": {
            "tags": []
          }
        }
      ]
    },
    {
      "cell_type": "code",
      "metadata": {
        "id": "rO5dTzNRS6Nr",
        "colab_type": "code",
        "outputId": "399dc025-e726-445e-db0b-6b45d4ec9906",
        "colab": {
          "base_uri": "https://localhost:8080/",
          "height": 35
        }
      },
      "source": [
        "a=rides2[(rides2.code_oui==1)]\n",
        "a.shape[0]\n",
        "\n",
        "#nombre de courses effectuées avec le code promo par des utilisateurs de niveau 2 ou 3 au programme fidélité"
      ],
      "execution_count": 0,
      "outputs": [
        {
          "output_type": "execute_result",
          "data": {
            "text/plain": [
              "14218"
            ]
          },
          "metadata": {
            "tags": []
          },
          "execution_count": 94
        }
      ]
    },
    {
      "cell_type": "markdown",
      "metadata": {
        "id": "73OEw1b-__0J",
        "colab_type": "text"
      },
      "source": [
        "Sur 81 825 courses complétées, effectuées, et répertoriées entre les 17 et 21 mai inclus, 67 607 ont été effectués sans le code promo.\n"
      ]
    },
    {
      "cell_type": "code",
      "metadata": {
        "id": "RGMom2mV_9UT",
        "colab_type": "code",
        "outputId": "a07f31e2-e156-4c04-f1e3-66420bfff183",
        "colab": {
          "base_uri": "https://localhost:8080/",
          "height": 69
        }
      },
      "source": [
        "rides2.code_non.value_counts()"
      ],
      "execution_count": 0,
      "outputs": [
        {
          "output_type": "execute_result",
          "data": {
            "text/plain": [
              "1    67607\n",
              "0    14218\n",
              "Name: code_non, dtype: int64"
            ]
          },
          "metadata": {
            "tags": []
          },
          "execution_count": 68
        }
      ]
    },
    {
      "cell_type": "code",
      "metadata": {
        "id": "77IqLPtXACvE",
        "colab_type": "code",
        "outputId": "2e9e0cf3-1dd0-4a58-d6be-551e95cc2e31",
        "colab": {
          "base_uri": "https://localhost:8080/",
          "height": 489
        }
      },
      "source": [
        "#nouveau dataset concentré sur les utilisateurs\n",
        "riders_comparison = rides2.groupby('user_id').agg('mean').reset_index()\n",
        "\n",
        "fig, ax = plt.subplots()\n",
        "riders_comparison[['loyalty_level','code_oui','code_non']].groupby(['loyalty_level']).agg('sum').plot.bar(ax=ax, figsize=(9,7),color=['lightcoral', 'steelblue'])\n",
        "plt.title('Répartition des utilisateurs selon l\\'utilisation du code \\npromo et leur niveau dans le programme fidelité',fontsize=20)\n",
        "plt.legend(bbox_to_anchor=(.63, 1.01), loc=2,prop={'size': 20})\n",
        "plt.savefig('repartition_riders.png', bbox_inches='tight')\n",
        "plt.xticks(rotation = 0)\n",
        "plt.show()"
      ],
      "execution_count": 0,
      "outputs": [
        {
          "output_type": "display_data",
          "data": {
            "image/png": "[encoded data removed]",
            "text/plain": [
              "<Figure size 648x504 with 1 Axes>"
            ]
          },
          "metadata": {
            "tags": []
          }
        }
      ]
    },
    {
      "cell_type": "markdown",
      "metadata": {
        "id": "ws599eaiAHjW",
        "colab_type": "text"
      },
      "source": [
        "## Analyse du coût de la campagne promotionnelle par rapport à son bénéfice immédiat"
      ]
    },
    {
      "cell_type": "code",
      "metadata": {
        "id": "0cAQhVHxAE-l",
        "colab_type": "code",
        "outputId": "91381e9e-2fb8-4d1e-9e75-6b49be7cea04",
        "colab": {
          "base_uri": "https://localhost:8080/",
          "height": 138
        }
      },
      "source": [
        "price = rides2.groupby('code_oui').agg('mean')\n",
        "price['taux_reduc'] = round(100-(price.ad_price*100/price.price_nominal),1)\n",
        "price"
      ],
      "execution_count": 0,
      "outputs": [
        {
          "output_type": "execute_result",
          "data": {
            "text/html": [
              "<div>\n",
              "<style scoped>\n",
              "    .dataframe tbody tr th:only-of-type {\n",
              "        vertical-align: middle;\n",
              "    }\n",
              "\n",
              "    .dataframe tbody tr th {\n",
              "        vertical-align: top;\n",
              "    }\n",
              "\n",
              "    .dataframe thead th {\n",
              "        text-align: right;\n",
              "    }\n",
              "</style>\n",
              "<table border=\"1\" class=\"dataframe\">\n",
              "  <thead>\n",
              "    <tr style=\"text-align: right;\">\n",
              "      <th></th>\n",
              "      <th>loyalty_level</th>\n",
              "      <th>lp_earned</th>\n",
              "      <th>price_nominal</th>\n",
              "      <th>ad_price</th>\n",
              "      <th>code_non</th>\n",
              "      <th>taux_reduc</th>\n",
              "    </tr>\n",
              "    <tr>\n",
              "      <th>code_oui</th>\n",
              "      <th></th>\n",
              "      <th></th>\n",
              "      <th></th>\n",
              "      <th></th>\n",
              "      <th></th>\n",
              "      <th></th>\n",
              "    </tr>\n",
              "  </thead>\n",
              "  <tbody>\n",
              "    <tr>\n",
              "      <th>0</th>\n",
              "      <td>1.331667</td>\n",
              "      <td>7.613516</td>\n",
              "      <td>6.105540</td>\n",
              "      <td>5.858004</td>\n",
              "      <td>1.0</td>\n",
              "      <td>4.1</td>\n",
              "    </tr>\n",
              "    <tr>\n",
              "      <th>1</th>\n",
              "      <td>1.772261</td>\n",
              "      <td>8.765157</td>\n",
              "      <td>6.150967</td>\n",
              "      <td>6.012955</td>\n",
              "      <td>0.0</td>\n",
              "      <td>2.2</td>\n",
              "    </tr>\n",
              "  </tbody>\n",
              "</table>\n",
              "</div>"
            ],
            "text/plain": [
              "          loyalty_level  lp_earned  ...  code_non  taux_reduc\n",
              "code_oui                            ...                      \n",
              "0              1.331667   7.613516  ...       1.0         4.1\n",
              "1              1.772261   8.765157  ...       0.0         2.2\n",
              "\n",
              "[2 rows x 6 columns]"
            ]
          },
          "metadata": {
            "tags": []
          },
          "execution_count": 70
        }
      ]
    },
    {
      "cell_type": "markdown",
      "metadata": {
        "id": "6BTC-PiaANvX",
        "colab_type": "text"
      },
      "source": [
        "Les utilisateurs ayant profité du code promo ont complété des courses avec un taux de réduction moyen (2.2%) sur le prix final inférieur à celui des utilisateurs ayant utiliser le service normalement (4.1%). \n",
        "\n",
        "On peut déduire que la perspective de 5 fois plus de points supplémentaires attribués par courses a motivé les utilisateurs convertis à payer des prix plus élevés qu'habituellement."
      ]
    },
    {
      "cell_type": "code",
      "metadata": {
        "id": "OMP8pOWiAOV3",
        "colab_type": "code",
        "outputId": "0a6ac065-27b5-4392-a91d-07ff867448de",
        "colab": {
          "base_uri": "https://localhost:8080/",
          "height": 55
        }
      },
      "source": [
        "a=price.lp_earned[price.code_non==0][1]\n",
        "#moyenne des points récoltés par les NON utilisateurs du code promo\n",
        "b = price.lp_earned[price.code_non==0][1]*5 \n",
        "# 5 fois plus de points attribués sur la moyenne des points récoltés par les convertis au code\n",
        "c=round((b-a)*0.1,2)\n",
        "# c est le coût de 10 centimes par point bonus attribué aux convertis au code promo\n",
        "d=round(price.ad_price[price.code_non==0][1] - price.ad_price[price.code_non!=0][0],2)\n",
        "sommaire = f\"le coût moyen de la campagne par utilisateur est de {c} €, tandis que le gain de revenu moyen par rapport aux utilisateurs qui n'ont pas consommé le code promo est de {d} €.\"\n",
        "print(sommaire)"
      ],
      "execution_count": 0,
      "outputs": [
        {
          "output_type": "stream",
          "text": [
            "le coût moyen de la campagne par utilisateur est de 3.51 €, tandis que le gain de revenu moyen par rapport aux utilisateurs qui n'ont pas consommé le code promo est de 0.15 €.\n"
          ],
          "name": "stdout"
        }
      ]
    },
    {
      "cell_type": "code",
      "metadata": {
        "id": "2T5rH1t7lGRD",
        "colab_type": "code",
        "outputId": "ab80e94e-250d-4b2d-ec73-6c18b954eebd",
        "colab": {
          "base_uri": "https://localhost:8080/",
          "height": 138
        }
      },
      "source": [
        "price"
      ],
      "execution_count": 0,
      "outputs": [
        {
          "output_type": "execute_result",
          "data": {
            "text/html": [
              "<div>\n",
              "<style scoped>\n",
              "    .dataframe tbody tr th:only-of-type {\n",
              "        vertical-align: middle;\n",
              "    }\n",
              "\n",
              "    .dataframe tbody tr th {\n",
              "        vertical-align: top;\n",
              "    }\n",
              "\n",
              "    .dataframe thead th {\n",
              "        text-align: right;\n",
              "    }\n",
              "</style>\n",
              "<table border=\"1\" class=\"dataframe\">\n",
              "  <thead>\n",
              "    <tr style=\"text-align: right;\">\n",
              "      <th></th>\n",
              "      <th>loyalty_level</th>\n",
              "      <th>lp_earned</th>\n",
              "      <th>price_nominal</th>\n",
              "      <th>ad_price</th>\n",
              "      <th>code_non</th>\n",
              "      <th>taux_reduc</th>\n",
              "    </tr>\n",
              "    <tr>\n",
              "      <th>code_oui</th>\n",
              "      <th></th>\n",
              "      <th></th>\n",
              "      <th></th>\n",
              "      <th></th>\n",
              "      <th></th>\n",
              "      <th></th>\n",
              "    </tr>\n",
              "  </thead>\n",
              "  <tbody>\n",
              "    <tr>\n",
              "      <th>0</th>\n",
              "      <td>1.331667</td>\n",
              "      <td>7.613516</td>\n",
              "      <td>6.105540</td>\n",
              "      <td>5.858004</td>\n",
              "      <td>1.0</td>\n",
              "      <td>4.1</td>\n",
              "    </tr>\n",
              "    <tr>\n",
              "      <th>1</th>\n",
              "      <td>1.772261</td>\n",
              "      <td>8.765157</td>\n",
              "      <td>6.150967</td>\n",
              "      <td>6.012955</td>\n",
              "      <td>0.0</td>\n",
              "      <td>2.2</td>\n",
              "    </tr>\n",
              "  </tbody>\n",
              "</table>\n",
              "</div>"
            ],
            "text/plain": [
              "          loyalty_level  lp_earned  ...  code_non  taux_reduc\n",
              "code_oui                            ...                      \n",
              "0              1.331667   7.613516  ...       1.0         4.1\n",
              "1              1.772261   8.765157  ...       0.0         2.2\n",
              "\n",
              "[2 rows x 6 columns]"
            ]
          },
          "metadata": {
            "tags": []
          },
          "execution_count": 126
        }
      ]
    },
    {
      "cell_type": "code",
      "metadata": {
        "id": "7hcPyCzuARLH",
        "colab_type": "code",
        "colab": {}
      },
      "source": [
        "price2 = rides2.groupby(['loyalty_level','code_oui'],as_index=True).agg('mean').reset_index()\n",
        "price2.to_csv('price2.csv')"
      ],
      "execution_count": 0,
      "outputs": []
    },
    {
      "cell_type": "markdown",
      "metadata": {
        "id": "cTY5-N6VAVgQ",
        "colab_type": "text"
      },
      "source": [
        "Maintenant, je veux calculer le coût et le bénéfice de la campagne par statut dans le programme de fidélité :\n",
        "\n",
        "(une course effectuée avec le code promo rapporte 5 fois plus de points fidélité qu'à l'accoutumée)"
      ]
    },
    {
      "cell_type": "code",
      "metadata": {
        "id": "imtk46FDAYQs",
        "colab_type": "code",
        "outputId": "baacab4c-82aa-4e61-da8f-3efb88efb08c",
        "colab": {
          "base_uri": "https://localhost:8080/",
          "height": 318
        }
      },
      "source": [
        "price2['promo_cost']=  np.where(price2.code_non==0,round(((price2.lp_earned*5)-price2.lp_earned)*0.1,2) ,0)\n",
        "# colonne affichant le coût moyen de la promo par converti selon son niveau dans le programme fidélité\n",
        "a = list(price2.ad_price[price2.code_oui==0]) #prix final moyen payé par les utilisateurs normaux\n",
        "b = list(price2.ad_price[price2.code_oui==1]) #prix final moyen payé par les convertis au code promo\n",
        "from operator import sub\n",
        "c= list( map(sub, b, a) ) #différence (le gain) moyenne de revenu entre les convertis et les autres\n",
        "price2['extra_revenue']=0\n",
        "price2.loc[price2.code_oui==1, 'extra_revenue'] = [round(element,2) for element in c]\n",
        "price2.set_index(['loyalty_level','code_oui'],inplace=True)\n",
        "price2['difference'] = price2.extra_revenue - price2.promo_cost\n",
        "price2"
      ],
      "execution_count": 0,
      "outputs": [
        {
          "output_type": "execute_result",
          "data": {
            "text/html": [
              "<div>\n",
              "<style scoped>\n",
              "    .dataframe tbody tr th:only-of-type {\n",
              "        vertical-align: middle;\n",
              "    }\n",
              "\n",
              "    .dataframe tbody tr th {\n",
              "        vertical-align: top;\n",
              "    }\n",
              "\n",
              "    .dataframe thead th {\n",
              "        text-align: right;\n",
              "    }\n",
              "</style>\n",
              "<table border=\"1\" class=\"dataframe\">\n",
              "  <thead>\n",
              "    <tr style=\"text-align: right;\">\n",
              "      <th></th>\n",
              "      <th></th>\n",
              "      <th>lp_earned</th>\n",
              "      <th>price_nominal</th>\n",
              "      <th>ad_price</th>\n",
              "      <th>code_non</th>\n",
              "      <th>promo_cost</th>\n",
              "      <th>extra_revenue</th>\n",
              "      <th>difference</th>\n",
              "    </tr>\n",
              "    <tr>\n",
              "      <th>loyalty_level</th>\n",
              "      <th>code_oui</th>\n",
              "      <th></th>\n",
              "      <th></th>\n",
              "      <th></th>\n",
              "      <th></th>\n",
              "      <th></th>\n",
              "      <th></th>\n",
              "      <th></th>\n",
              "    </tr>\n",
              "  </thead>\n",
              "  <tbody>\n",
              "    <tr>\n",
              "      <th rowspan=\"2\" valign=\"top\">0</th>\n",
              "      <th>0</th>\n",
              "      <td>5.621849</td>\n",
              "      <td>6.536318</td>\n",
              "      <td>6.086953</td>\n",
              "      <td>1.0</td>\n",
              "      <td>0.00</td>\n",
              "      <td>0.00</td>\n",
              "      <td>0.00</td>\n",
              "    </tr>\n",
              "    <tr>\n",
              "      <th>1</th>\n",
              "      <td>6.516825</td>\n",
              "      <td>6.770102</td>\n",
              "      <td>6.551346</td>\n",
              "      <td>0.0</td>\n",
              "      <td>2.61</td>\n",
              "      <td>0.46</td>\n",
              "      <td>-2.15</td>\n",
              "    </tr>\n",
              "    <tr>\n",
              "      <th rowspan=\"2\" valign=\"top\">1</th>\n",
              "      <th>0</th>\n",
              "      <td>7.518958</td>\n",
              "      <td>6.107276</td>\n",
              "      <td>5.990701</td>\n",
              "      <td>1.0</td>\n",
              "      <td>0.00</td>\n",
              "      <td>0.00</td>\n",
              "      <td>0.00</td>\n",
              "    </tr>\n",
              "    <tr>\n",
              "      <th>1</th>\n",
              "      <td>8.110187</td>\n",
              "      <td>6.331301</td>\n",
              "      <td>6.249811</td>\n",
              "      <td>0.0</td>\n",
              "      <td>3.24</td>\n",
              "      <td>0.26</td>\n",
              "      <td>-2.98</td>\n",
              "    </tr>\n",
              "    <tr>\n",
              "      <th rowspan=\"2\" valign=\"top\">2</th>\n",
              "      <th>0</th>\n",
              "      <td>9.030785</td>\n",
              "      <td>5.889887</td>\n",
              "      <td>5.731296</td>\n",
              "      <td>1.0</td>\n",
              "      <td>0.00</td>\n",
              "      <td>0.00</td>\n",
              "      <td>0.00</td>\n",
              "    </tr>\n",
              "    <tr>\n",
              "      <th>1</th>\n",
              "      <td>9.585955</td>\n",
              "      <td>6.060567</td>\n",
              "      <td>5.939471</td>\n",
              "      <td>0.0</td>\n",
              "      <td>3.83</td>\n",
              "      <td>0.21</td>\n",
              "      <td>-3.62</td>\n",
              "    </tr>\n",
              "    <tr>\n",
              "      <th rowspan=\"2\" valign=\"top\">3</th>\n",
              "      <th>0</th>\n",
              "      <td>8.977805</td>\n",
              "      <td>5.725822</td>\n",
              "      <td>5.470695</td>\n",
              "      <td>1.0</td>\n",
              "      <td>0.00</td>\n",
              "      <td>0.00</td>\n",
              "      <td>0.00</td>\n",
              "    </tr>\n",
              "    <tr>\n",
              "      <th>1</th>\n",
              "      <td>9.332388</td>\n",
              "      <td>5.826957</td>\n",
              "      <td>5.642999</td>\n",
              "      <td>0.0</td>\n",
              "      <td>3.73</td>\n",
              "      <td>0.17</td>\n",
              "      <td>-3.56</td>\n",
              "    </tr>\n",
              "  </tbody>\n",
              "</table>\n",
              "</div>"
            ],
            "text/plain": [
              "                        lp_earned  price_nominal  ...  extra_revenue  difference\n",
              "loyalty_level code_oui                            ...                           \n",
              "0             0          5.621849       6.536318  ...           0.00        0.00\n",
              "              1          6.516825       6.770102  ...           0.46       -2.15\n",
              "1             0          7.518958       6.107276  ...           0.00        0.00\n",
              "              1          8.110187       6.331301  ...           0.26       -2.98\n",
              "2             0          9.030785       5.889887  ...           0.00        0.00\n",
              "              1          9.585955       6.060567  ...           0.21       -3.62\n",
              "3             0          8.977805       5.725822  ...           0.00        0.00\n",
              "              1          9.332388       5.826957  ...           0.17       -3.56\n",
              "\n",
              "[8 rows x 7 columns]"
            ]
          },
          "metadata": {
            "tags": []
          },
          "execution_count": 99
        }
      ]
    },
    {
      "cell_type": "markdown",
      "metadata": {
        "id": "6yVCWIcBAdj9",
        "colab_type": "text"
      },
      "source": [
        "Les convertis au code ont payé très légèrement plus cher en moyenne que les autres après réduction appliquée.\n",
        "\n",
        "Le plus gros gain de revenu moyen par utilisateur converti est celui au niveau 0, est monte à 46 centimes par course. Cependant, le coût moyen de l'opération pour cet untilisateur converti type est de 2.61€ (correspondant aux point fidélité bonus attribués et valant chacun 10 centimes)."
      ]
    },
    {
      "cell_type": "code",
      "metadata": {
        "id": "XPC36FOAAeDS",
        "colab_type": "code",
        "outputId": "01191e86-3ebf-4ac3-f668-8891ece53e10",
        "colab": {
          "base_uri": "https://localhost:8080/",
          "height": 489
        }
      },
      "source": [
        "# cb pour signifier cost / benefit\n",
        "cb = price2.iloc[1::2, :].reset_index()\n",
        "fig, ax = plt.subplots()\n",
        "cb.plot(x='loyalty_level',y=[ 'promo_cost','extra_revenue' ],kind = 'bar',ax=ax, figsize=(9,7),color=['lightcoral', 'steelblue'])\n",
        "plt.title('Comparaison des bénéfices / coûts par converti moyen\\n selon son niveau dans le programme fidélité',fontsize=20)\n",
        "plt.legend(bbox_to_anchor=(.0, 1.01), loc=2,prop={'size': 16})\n",
        "plt.savefig('Comparaison_benef_coût.png', bbox_inches='tight')\n",
        "plt.xticks(rotation = 0)\n",
        "plt.show()"
      ],
      "execution_count": 0,
      "outputs": [
        {
          "output_type": "display_data",
          "data": {
            "image/png": "[encoded data removed]",
            "text/plain": [
              "<Figure size 648x504 with 1 Axes>"
            ]
          },
          "metadata": {
            "tags": []
          }
        }
      ]
    },
    {
      "cell_type": "code",
      "metadata": {
        "id": "gVo1TU3mXD5z",
        "colab_type": "code",
        "outputId": "994ccb2d-4a30-474a-d66e-e2cf985aa5dd",
        "colab": {
          "base_uri": "https://localhost:8080/",
          "height": 168
        }
      },
      "source": [
        "cb_bis = cb.drop(['code_oui','code_non','price_nominal','lp_earned'],axis=1)\n",
        "cb_bis.rename({'loyalty_level':'statut','ad_price':'prix final','promo_cost':'coût du code','extra_revenue':'gain moyen'},axis=1,inplace=True)\n",
        "cb_bis"
      ],
      "execution_count": 0,
      "outputs": [
        {
          "output_type": "execute_result",
          "data": {
            "text/html": [
              "<div>\n",
              "<style scoped>\n",
              "    .dataframe tbody tr th:only-of-type {\n",
              "        vertical-align: middle;\n",
              "    }\n",
              "\n",
              "    .dataframe tbody tr th {\n",
              "        vertical-align: top;\n",
              "    }\n",
              "\n",
              "    .dataframe thead th {\n",
              "        text-align: right;\n",
              "    }\n",
              "</style>\n",
              "<table border=\"1\" class=\"dataframe\">\n",
              "  <thead>\n",
              "    <tr style=\"text-align: right;\">\n",
              "      <th></th>\n",
              "      <th>statut</th>\n",
              "      <th>prix final</th>\n",
              "      <th>coût du code</th>\n",
              "      <th>gain moyen</th>\n",
              "      <th>difference</th>\n",
              "    </tr>\n",
              "  </thead>\n",
              "  <tbody>\n",
              "    <tr>\n",
              "      <th>0</th>\n",
              "      <td>0</td>\n",
              "      <td>6.551346</td>\n",
              "      <td>2.61</td>\n",
              "      <td>0.46</td>\n",
              "      <td>-2.15</td>\n",
              "    </tr>\n",
              "    <tr>\n",
              "      <th>1</th>\n",
              "      <td>1</td>\n",
              "      <td>6.249811</td>\n",
              "      <td>3.24</td>\n",
              "      <td>0.26</td>\n",
              "      <td>-2.98</td>\n",
              "    </tr>\n",
              "    <tr>\n",
              "      <th>2</th>\n",
              "      <td>2</td>\n",
              "      <td>5.939471</td>\n",
              "      <td>3.83</td>\n",
              "      <td>0.21</td>\n",
              "      <td>-3.62</td>\n",
              "    </tr>\n",
              "    <tr>\n",
              "      <th>3</th>\n",
              "      <td>3</td>\n",
              "      <td>5.642999</td>\n",
              "      <td>3.73</td>\n",
              "      <td>0.17</td>\n",
              "      <td>-3.56</td>\n",
              "    </tr>\n",
              "  </tbody>\n",
              "</table>\n",
              "</div>"
            ],
            "text/plain": [
              "   statut  prix final  coût du code  gain moyen  difference\n",
              "0       0    6.551346          2.61        0.46       -2.15\n",
              "1       1    6.249811          3.24        0.26       -2.98\n",
              "2       2    5.939471          3.83        0.21       -3.62\n",
              "3       3    5.642999          3.73        0.17       -3.56"
            ]
          },
          "metadata": {
            "tags": []
          },
          "execution_count": 118
        }
      ]
    },
    {
      "cell_type": "markdown",
      "metadata": {
        "id": "h8yfDgN8AjFj",
        "colab_type": "text"
      },
      "source": [
        "D'un point de vue financier, ça n'a pas été une campagne efficace. Le coût moyen de la campagne est démesuré face au gain de revenu effectif, presque résiduel.\n",
        "\n",
        "La campagne a surtout profité à des utilisateurs déjà bien fidélisés par le service VTC. \n",
        "\n",
        "Près de la moitié d'entre eux étaient déjà au niveau 2 ou 3 au moment de la campagne et ont donc vu l'offre promotionnelle comme une aubaine pour gagner des avantages supplémentaires à peu de frais. Les utilisateurs à ces niveaus là du programme Fidélité sont les plus coûteux dans le cadre de cette campagne. \n",
        "\n",
        "A l'inverse, les utilisateurs au niveau 0 ont largement snobé la campagne. Les a-t-elle seulement atteint ? Ils sont seulement 1153 à avoir profité de l'offre sur les plus de 15 400 utilisateurs de niveau Rouge ayant complété au cours des dates indiquées."
      ]
    }
  ]
}